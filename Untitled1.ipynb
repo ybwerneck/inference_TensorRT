{
 "cells": [
  {
   "cell_type": "code",
   "execution_count": 1,
   "id": "616abba1",
   "metadata": {},
   "outputs": [
    {
     "ename": "TypeError",
     "evalue": "'str' object cannot be interpreted as an integer",
     "output_type": "error",
     "traceback": [
      "\u001b[0;31m---------------------------------------------------------------------------\u001b[0m",
      "\u001b[0;31mTypeError\u001b[0m                                 Traceback (most recent call last)",
      "Cell \u001b[0;32mIn[1], line 24\u001b[0m\n\u001b[1;32m     21\u001b[0m     \u001b[38;5;28;01mreturn\u001b[39;00m usage\n\u001b[1;32m     23\u001b[0m \u001b[38;5;28;01mif\u001b[39;00m \u001b[38;5;18m__name__\u001b[39m \u001b[38;5;241m==\u001b[39m \u001b[38;5;124m\"\u001b[39m\u001b[38;5;124m__main__\u001b[39m\u001b[38;5;124m\"\u001b[39m:\n\u001b[0;32m---> 24\u001b[0m    \u001b[38;5;28mprint\u001b[39m(\u001b[43mget_usage\u001b[49m\u001b[43m(\u001b[49m\u001b[43msys\u001b[49m\u001b[38;5;241;43m.\u001b[39;49m\u001b[43margv\u001b[49m\u001b[43m[\u001b[49m\u001b[38;5;241;43m1\u001b[39;49m\u001b[43m]\u001b[49m\u001b[43m,\u001b[49m\u001b[43m \u001b[49m\u001b[43msys\u001b[49m\u001b[38;5;241;43m.\u001b[39;49m\u001b[43margv\u001b[49m\u001b[43m[\u001b[49m\u001b[38;5;241;43m2\u001b[39;49m\u001b[43m]\u001b[49m\u001b[43m)\u001b[49m)\n",
      "Cell \u001b[0;32mIn[1], line 10\u001b[0m, in \u001b[0;36mget_usage\u001b[0;34m(device_index, my_pid)\u001b[0m\n\u001b[1;32m      7\u001b[0m \u001b[38;5;28;01mdef\u001b[39;00m \u001b[38;5;21mget_usage\u001b[39m(device_index, my_pid):\n\u001b[1;32m      8\u001b[0m     N\u001b[38;5;241m.\u001b[39mnvmlInit()\n\u001b[0;32m---> 10\u001b[0m     handle \u001b[38;5;241m=\u001b[39m \u001b[43mN\u001b[49m\u001b[38;5;241;43m.\u001b[39;49m\u001b[43mnvmlDeviceGetHandleByIndex\u001b[49m\u001b[43m(\u001b[49m\u001b[43mdevice_index\u001b[49m\u001b[43m)\u001b[49m\n\u001b[1;32m     12\u001b[0m     usage \u001b[38;5;241m=\u001b[39m [nv_process\u001b[38;5;241m.\u001b[39musedGpuMemory \u001b[38;5;241m/\u001b[39m\u001b[38;5;241m/\u001b[39m MB \u001b[38;5;28;01mfor\u001b[39;00m nv_process \u001b[38;5;129;01min\u001b[39;00m\n\u001b[1;32m     13\u001b[0m              N\u001b[38;5;241m.\u001b[39mnvmlDeviceGetComputeRunningProcesses(handle) \u001b[38;5;241m+\u001b[39m N\u001b[38;5;241m.\u001b[39mnvmlDeviceGetGraphicsRunningProcesses(handle) \u001b[38;5;28;01mif\u001b[39;00m\n\u001b[1;32m     14\u001b[0m              nv_process\u001b[38;5;241m.\u001b[39mpid \u001b[38;5;241m==\u001b[39m my_pid]\n\u001b[1;32m     16\u001b[0m     \u001b[38;5;28;01mif\u001b[39;00m \u001b[38;5;28mlen\u001b[39m(usage) \u001b[38;5;241m==\u001b[39m \u001b[38;5;241m1\u001b[39m:\n",
      "File \u001b[0;32m/usr/local/lib/python3.10/dist-packages/pynvml/nvml.py:1651\u001b[0m, in \u001b[0;36mnvmlDeviceGetHandleByIndex\u001b[0;34m(index)\u001b[0m\n\u001b[1;32m   1650\u001b[0m \u001b[38;5;28;01mdef\u001b[39;00m \u001b[38;5;21mnvmlDeviceGetHandleByIndex\u001b[39m(index):\n\u001b[0;32m-> 1651\u001b[0m     c_index \u001b[38;5;241m=\u001b[39m \u001b[43mc_uint\u001b[49m\u001b[43m(\u001b[49m\u001b[43mindex\u001b[49m\u001b[43m)\u001b[49m\n\u001b[1;32m   1652\u001b[0m     device \u001b[38;5;241m=\u001b[39m c_nvmlDevice_t()\n\u001b[1;32m   1653\u001b[0m     fn \u001b[38;5;241m=\u001b[39m _nvmlGetFunctionPointer(\u001b[38;5;124m\"\u001b[39m\u001b[38;5;124mnvmlDeviceGetHandleByIndex_v2\u001b[39m\u001b[38;5;124m\"\u001b[39m)\n",
      "\u001b[0;31mTypeError\u001b[0m: 'str' object cannot be interpreted as an integer"
     ]
    }
   ],
   "source": [
    "import os\n",
    "import sys\n",
    "import pynvml as N\n",
    "\n",
    "MB = 1024 * 1024\n",
    "\n",
    "def get_usage(device_index, my_pid):\n",
    "    N.nvmlInit()\n",
    "\n",
    "    handle = N.nvmlDeviceGetHandleByIndex(device_index)\n",
    "\n",
    "    usage = [nv_process.usedGpuMemory // MB for nv_process in\n",
    "             N.nvmlDeviceGetComputeRunningProcesses(handle) + N.nvmlDeviceGetGraphicsRunningProcesses(handle) if\n",
    "             nv_process.pid == my_pid]\n",
    "\n",
    "    if len(usage) == 1:\n",
    "        usage = usage[0]\n",
    "    else:\n",
    "        raise KeyError(\"PID not found\")\n",
    "\n",
    "    return usage\n",
    "\n",
    "if __name__ == \"__main__\":\n",
    "   print(get_usage(sys.argv[1], sys.argv[2]))"
   ]
  },
  {
   "cell_type": "code",
   "execution_count": 1,
   "id": "47c84261",
   "metadata": {},
   "outputs": [
    {
     "ename": "NameError",
     "evalue": "name 'np' is not defined",
     "output_type": "error",
     "traceback": [
      "\u001b[0;31m---------------------------------------------------------------------------\u001b[0m",
      "\u001b[0;31mNameError\u001b[0m                                 Traceback (most recent call last)",
      "Cell \u001b[0;32mIn[1], line 44\u001b[0m\n\u001b[1;32m     42\u001b[0m torch\u001b[38;5;241m.\u001b[39mcuda\u001b[38;5;241m.\u001b[39mempty_cache()\n\u001b[1;32m     43\u001b[0m \u001b[38;5;28;01mfor\u001b[39;00m N \u001b[38;5;129;01min\u001b[39;00m [\u001b[38;5;241m10\u001b[39m,\u001b[38;5;241m1000\u001b[39m,\u001b[38;5;241m10000\u001b[39m,\u001b[38;5;241m1000000\u001b[39m,\u001b[38;5;241m10000000\u001b[39m]:\n\u001b[0;32m---> 44\u001b[0m     t\u001b[38;5;241m=\u001b[39m\u001b[43mnp\u001b[49m\u001b[38;5;241m.\u001b[39mlinspace(\u001b[38;5;241m0\u001b[39m,\u001b[38;5;241m10\u001b[39m,\u001b[38;5;241m50\u001b[39m)\n\u001b[1;32m     45\u001b[0m     x\u001b[38;5;241m=\u001b[39mnp\u001b[38;5;241m.\u001b[39mlinspace(\u001b[38;5;241m0\u001b[39m,\u001b[38;5;241m1\u001b[39m,N)\n\u001b[1;32m     46\u001b[0m     X\u001b[38;5;241m=\u001b[39mnp\u001b[38;5;241m.\u001b[39mzeros((\u001b[38;5;241m2\u001b[39m,\u001b[38;5;28mlen\u001b[39m(t)\u001b[38;5;241m*\u001b[39m\u001b[38;5;28mlen\u001b[39m(x)))\n",
      "\u001b[0;31mNameError\u001b[0m: name 'np' is not defined"
     ]
    }
   ],
   "source": [
    "import torch as pt\n",
    "import torch\n",
    "import itertools\n",
    "import time as TIME\n",
    "import torch, gc\n",
    "\n",
    "\n",
    "def eval(M):\n",
    "    gc.collect()\n",
    "    torch.cuda.empty_cache()\n",
    "    start_time = TIME.time()\n",
    "\n",
    "    my2dspace = pt.tensor(X.T, requires_grad=False).float().cuda()\n",
    "    \n",
    "    reftime = TIME.perf_counter()- start_time\n",
    "    \n",
    "    #print(\"transfer time\",reftime)\n",
    "    #print(np.shape(X))\n",
    "    M.eval()\n",
    "    my2dspace = pt.tensor(X.T, requires_grad=False).float().cuda()\n",
    "   \n",
    "    start_time = TIME.perf_counter()\n",
    "\n",
    "\n",
    "    myOutput = M(my2dspace)\n",
    "    \n",
    "    reftime = TIME.perf_counter()- start_time\n",
    "   \n",
    "    #print(np.shape(uu))\n",
    "    gc.collect()\n",
    "    torch.cuda.empty_cache()\n",
    "    \n",
    "    return reftime\n",
    "\n",
    "\n",
    "#mod = pt.jit.script(model)\n",
    "#models=(Net(2,2,numlayers=2,H=2),Net(2,2,numlayers=5,H=5),Net(2,2,numlayers=7,H=7) )\n",
    "\n",
    "NL=[4,8,16,32]\n",
    "HS=[4,8,16,32,64]\n",
    "gc.collect()\n",
    "torch.cuda.empty_cache()\n",
    "for N in [10,1000,10000,1000000,10000000]:\n",
    "    t=np.linspace(0,10,50)\n",
    "    x=np.linspace(0,1,N)\n",
    "    X=np.zeros((2,len(t)*len(x)))\n",
    "        #print(itertools.product(x,t))\n",
    "    i=0\n",
    "    for a,b in itertools.product(x,t):\n",
    "            X[:,i]=(b,a)\n",
    "            i=i+1\n",
    "    plt.figure(figsize=(10, 8)) \n",
    "    for nl in NL:\n",
    "        ts=np.zeros(len(HS))\n",
    "        i=0\n",
    "        for h in HS:\n",
    "            ts[i]=np.mean([eval(Net(2,2,numlayers=nl,H=h)) for _ in range(10)])\n",
    "            i=i+1\n",
    "\n",
    "        plt.plot(HS,ts,label=\"N_l=\"+str(nl))\n",
    "        print(str(nl),\"a\",ts)\n",
    "        ts=np.zeros(len(HS))\n",
    "        i=0\n",
    "        for h in HS:\n",
    "            ts[i]=np.mean([eval(torch.jit.script(model).cuda()) for _ in range(10)])\n",
    "            i=i+1\n",
    "\n",
    "        plt.plot(HS,ts,\"--\",label=\"Nscript_l=\"+str(nl))\n",
    "        print(str(nl),\"b\",ts)\n",
    "\n",
    "    plt.xlabel('Height of Each Layer')\n",
    "    plt.ylabel('Time of Evaluation')\n",
    "    plt.title('Evaluation Time vs. Number of Layers n='+str(N))\n",
    "    plt.legend(loc='upper left')\n",
    "    plt.grid(True)\n",
    "    plt.show()"
   ]
  },
  {
   "cell_type": "code",
   "execution_count": null,
   "id": "1fd8048a",
   "metadata": {},
   "outputs": [],
   "source": []
  }
 ],
 "metadata": {
  "kernelspec": {
   "display_name": "Python 3 (ipykernel)",
   "language": "python",
   "name": "python3"
  },
  "language_info": {
   "codemirror_mode": {
    "name": "ipython",
    "version": 3
   },
   "file_extension": ".py",
   "mimetype": "text/x-python",
   "name": "python",
   "nbconvert_exporter": "python",
   "pygments_lexer": "ipython3",
   "version": "3.10.6"
  }
 },
 "nbformat": 4,
 "nbformat_minor": 5
}
